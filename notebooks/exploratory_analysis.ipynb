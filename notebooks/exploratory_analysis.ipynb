{
 "cells": [
  {
   "cell_type": "code",
   "execution_count": 5,
   "metadata": {},
   "outputs": [],
   "source": [
    "# Import necessary libraries\n",
    "import pandas as pd\n",
    "import numpy as np\n",
    "import matplotlib.pyplot as plt\n",
    "import seaborn as sns\n",
    "\n",
    "# Set visual styles\n",
    "sns.set(style=\"whitegrid\")\n",
    "\n",
    "# Load datasets\n",
    "historical_data = pd.read_csv('D:/AI-Powered Tax Optimization/data/historical_data.csv')\n",
    "tax_regulations = pd.read_csv('D:/AI-Powered Tax Optimization/data/tax_regulations.csv')\n"
   ]
  },
  {
   "cell_type": "code",
   "execution_count": 6,
   "metadata": {},
   "outputs": [
    {
     "data": {
      "text/html": [
       "<div>\n",
       "<style scoped>\n",
       "    .dataframe tbody tr th:only-of-type {\n",
       "        vertical-align: middle;\n",
       "    }\n",
       "\n",
       "    .dataframe tbody tr th {\n",
       "        vertical-align: top;\n",
       "    }\n",
       "\n",
       "    .dataframe thead th {\n",
       "        text-align: right;\n",
       "    }\n",
       "</style>\n",
       "<table border=\"1\" class=\"dataframe\">\n",
       "  <thead>\n",
       "    <tr style=\"text-align: right;\">\n",
       "      <th></th>\n",
       "      <th>income</th>\n",
       "      <th>investment_income</th>\n",
       "      <th>deductions</th>\n",
       "      <th>age</th>\n",
       "      <th>state</th>\n",
       "      <th>target</th>\n",
       "    </tr>\n",
       "  </thead>\n",
       "  <tbody>\n",
       "    <tr>\n",
       "      <th>0</th>\n",
       "      <td>45795</td>\n",
       "      <td>7659</td>\n",
       "      <td>1702</td>\n",
       "      <td>28</td>\n",
       "      <td>CA</td>\n",
       "      <td>9882.35</td>\n",
       "    </tr>\n",
       "    <tr>\n",
       "      <th>1</th>\n",
       "      <td>30860</td>\n",
       "      <td>10601</td>\n",
       "      <td>18385</td>\n",
       "      <td>37</td>\n",
       "      <td>FL</td>\n",
       "      <td>3165.90</td>\n",
       "    </tr>\n",
       "    <tr>\n",
       "      <th>2</th>\n",
       "      <td>133694</td>\n",
       "      <td>11704</td>\n",
       "      <td>23296</td>\n",
       "      <td>27</td>\n",
       "      <td>FL</td>\n",
       "      <td>22670.40</td>\n",
       "    </tr>\n",
       "    <tr>\n",
       "      <th>3</th>\n",
       "      <td>149879</td>\n",
       "      <td>25</td>\n",
       "      <td>20262</td>\n",
       "      <td>46</td>\n",
       "      <td>NY</td>\n",
       "      <td>24914.05</td>\n",
       "    </tr>\n",
       "    <tr>\n",
       "      <th>4</th>\n",
       "      <td>140268</td>\n",
       "      <td>15384</td>\n",
       "      <td>28948</td>\n",
       "      <td>65</td>\n",
       "      <td>NY</td>\n",
       "      <td>23124.20</td>\n",
       "    </tr>\n",
       "  </tbody>\n",
       "</table>\n",
       "</div>"
      ],
      "text/plain": [
       "   income  investment_income  deductions  age state    target\n",
       "0   45795               7659        1702   28    CA   9882.35\n",
       "1   30860              10601       18385   37    FL   3165.90\n",
       "2  133694              11704       23296   27    FL  22670.40\n",
       "3  149879                 25       20262   46    NY  24914.05\n",
       "4  140268              15384       28948   65    NY  23124.20"
      ]
     },
     "execution_count": 6,
     "metadata": {},
     "output_type": "execute_result"
    }
   ],
   "source": [
    "historical_data.head()"
   ]
  },
  {
   "cell_type": "code",
   "execution_count": 7,
   "metadata": {},
   "outputs": [
    {
     "data": {
      "text/html": [
       "<div>\n",
       "<style scoped>\n",
       "    .dataframe tbody tr th:only-of-type {\n",
       "        vertical-align: middle;\n",
       "    }\n",
       "\n",
       "    .dataframe tbody tr th {\n",
       "        vertical-align: top;\n",
       "    }\n",
       "\n",
       "    .dataframe thead th {\n",
       "        text-align: right;\n",
       "    }\n",
       "</style>\n",
       "<table border=\"1\" class=\"dataframe\">\n",
       "  <thead>\n",
       "    <tr style=\"text-align: right;\">\n",
       "      <th></th>\n",
       "      <th>tax_bracket</th>\n",
       "      <th>income_range</th>\n",
       "      <th>min_rate</th>\n",
       "      <th>max_rate</th>\n",
       "      <th>deduction_limit</th>\n",
       "    </tr>\n",
       "  </thead>\n",
       "  <tbody>\n",
       "    <tr>\n",
       "      <th>0</th>\n",
       "      <td>1</td>\n",
       "      <td>0-10000</td>\n",
       "      <td>0.01</td>\n",
       "      <td>0.05</td>\n",
       "      <td>1000</td>\n",
       "    </tr>\n",
       "    <tr>\n",
       "      <th>1</th>\n",
       "      <td>2</td>\n",
       "      <td>10001-30000</td>\n",
       "      <td>0.05</td>\n",
       "      <td>0.10</td>\n",
       "      <td>2000</td>\n",
       "    </tr>\n",
       "    <tr>\n",
       "      <th>2</th>\n",
       "      <td>3</td>\n",
       "      <td>30001-70000</td>\n",
       "      <td>0.10</td>\n",
       "      <td>0.15</td>\n",
       "      <td>5000</td>\n",
       "    </tr>\n",
       "    <tr>\n",
       "      <th>3</th>\n",
       "      <td>4</td>\n",
       "      <td>70001-150000</td>\n",
       "      <td>0.15</td>\n",
       "      <td>0.20</td>\n",
       "      <td>10000</td>\n",
       "    </tr>\n",
       "    <tr>\n",
       "      <th>4</th>\n",
       "      <td>5</td>\n",
       "      <td>150001+</td>\n",
       "      <td>0.20</td>\n",
       "      <td>0.25</td>\n",
       "      <td>20000</td>\n",
       "    </tr>\n",
       "  </tbody>\n",
       "</table>\n",
       "</div>"
      ],
      "text/plain": [
       "   tax_bracket  income_range  min_rate  max_rate  deduction_limit\n",
       "0            1       0-10000      0.01      0.05             1000\n",
       "1            2   10001-30000      0.05      0.10             2000\n",
       "2            3   30001-70000      0.10      0.15             5000\n",
       "3            4  70001-150000      0.15      0.20            10000\n",
       "4            5       150001+      0.20      0.25            20000"
      ]
     },
     "execution_count": 7,
     "metadata": {},
     "output_type": "execute_result"
    }
   ],
   "source": [
    "tax_regulations.head()"
   ]
  },
  {
   "cell_type": "code",
   "execution_count": 8,
   "metadata": {},
   "outputs": [
    {
     "name": "stdout",
     "output_type": "stream",
     "text": [
      "<class 'pandas.core.frame.DataFrame'>\n",
      "RangeIndex: 5000 entries, 0 to 4999\n",
      "Data columns (total 6 columns):\n",
      " #   Column             Non-Null Count  Dtype  \n",
      "---  ------             --------------  -----  \n",
      " 0   income             5000 non-null   int64  \n",
      " 1   investment_income  5000 non-null   int64  \n",
      " 2   deductions         5000 non-null   int64  \n",
      " 3   age                5000 non-null   int64  \n",
      " 4   state              5000 non-null   object \n",
      " 5   target             5000 non-null   float64\n",
      "dtypes: float64(1), int64(4), object(1)\n",
      "memory usage: 234.5+ KB\n"
     ]
    },
    {
     "data": {
      "text/html": [
       "<div>\n",
       "<style scoped>\n",
       "    .dataframe tbody tr th:only-of-type {\n",
       "        vertical-align: middle;\n",
       "    }\n",
       "\n",
       "    .dataframe tbody tr th {\n",
       "        vertical-align: top;\n",
       "    }\n",
       "\n",
       "    .dataframe thead th {\n",
       "        text-align: right;\n",
       "    }\n",
       "</style>\n",
       "<table border=\"1\" class=\"dataframe\">\n",
       "  <thead>\n",
       "    <tr style=\"text-align: right;\">\n",
       "      <th></th>\n",
       "      <th>income</th>\n",
       "      <th>investment_income</th>\n",
       "      <th>deductions</th>\n",
       "      <th>age</th>\n",
       "      <th>target</th>\n",
       "    </tr>\n",
       "  </thead>\n",
       "  <tbody>\n",
       "    <tr>\n",
       "      <th>count</th>\n",
       "      <td>5000.00000</td>\n",
       "      <td>5000.000000</td>\n",
       "      <td>5000.000000</td>\n",
       "      <td>5000.000000</td>\n",
       "      <td>5000.000000</td>\n",
       "    </tr>\n",
       "    <tr>\n",
       "      <th>mean</th>\n",
       "      <td>89147.79960</td>\n",
       "      <td>9952.075400</td>\n",
       "      <td>15052.806800</td>\n",
       "      <td>43.356000</td>\n",
       "      <td>15559.365610</td>\n",
       "    </tr>\n",
       "    <tr>\n",
       "      <th>std</th>\n",
       "      <td>34678.31777</td>\n",
       "      <td>5790.005082</td>\n",
       "      <td>8708.124683</td>\n",
       "      <td>15.007808</td>\n",
       "      <td>7293.594885</td>\n",
       "    </tr>\n",
       "    <tr>\n",
       "      <th>min</th>\n",
       "      <td>30055.00000</td>\n",
       "      <td>1.000000</td>\n",
       "      <td>2.000000</td>\n",
       "      <td>18.000000</td>\n",
       "      <td>0.000000</td>\n",
       "    </tr>\n",
       "    <tr>\n",
       "      <th>25%</th>\n",
       "      <td>58510.25000</td>\n",
       "      <td>4886.000000</td>\n",
       "      <td>7443.250000</td>\n",
       "      <td>31.000000</td>\n",
       "      <td>9530.562500</td>\n",
       "    </tr>\n",
       "    <tr>\n",
       "      <th>50%</th>\n",
       "      <td>88580.50000</td>\n",
       "      <td>10022.000000</td>\n",
       "      <td>15184.500000</td>\n",
       "      <td>43.000000</td>\n",
       "      <td>15369.675000</td>\n",
       "    </tr>\n",
       "    <tr>\n",
       "      <th>75%</th>\n",
       "      <td>119054.00000</td>\n",
       "      <td>14922.250000</td>\n",
       "      <td>22561.500000</td>\n",
       "      <td>56.000000</td>\n",
       "      <td>21615.562500</td>\n",
       "    </tr>\n",
       "    <tr>\n",
       "      <th>max</th>\n",
       "      <td>149979.00000</td>\n",
       "      <td>19996.000000</td>\n",
       "      <td>29991.000000</td>\n",
       "      <td>69.000000</td>\n",
       "      <td>31886.100000</td>\n",
       "    </tr>\n",
       "  </tbody>\n",
       "</table>\n",
       "</div>"
      ],
      "text/plain": [
       "             income  investment_income    deductions          age  \\\n",
       "count    5000.00000        5000.000000   5000.000000  5000.000000   \n",
       "mean    89147.79960        9952.075400  15052.806800    43.356000   \n",
       "std     34678.31777        5790.005082   8708.124683    15.007808   \n",
       "min     30055.00000           1.000000      2.000000    18.000000   \n",
       "25%     58510.25000        4886.000000   7443.250000    31.000000   \n",
       "50%     88580.50000       10022.000000  15184.500000    43.000000   \n",
       "75%    119054.00000       14922.250000  22561.500000    56.000000   \n",
       "max    149979.00000       19996.000000  29991.000000    69.000000   \n",
       "\n",
       "             target  \n",
       "count   5000.000000  \n",
       "mean   15559.365610  \n",
       "std     7293.594885  \n",
       "min        0.000000  \n",
       "25%     9530.562500  \n",
       "50%    15369.675000  \n",
       "75%    21615.562500  \n",
       "max    31886.100000  "
      ]
     },
     "execution_count": 8,
     "metadata": {},
     "output_type": "execute_result"
    }
   ],
   "source": [
    "# Summary of historical data\n",
    "historical_data.info()\n",
    "historical_data.describe()\n"
   ]
  },
  {
   "cell_type": "code",
   "execution_count": 9,
   "metadata": {},
   "outputs": [
    {
     "name": "stdout",
     "output_type": "stream",
     "text": [
      "<class 'pandas.core.frame.DataFrame'>\n",
      "RangeIndex: 5000 entries, 0 to 4999\n",
      "Data columns (total 5 columns):\n",
      " #   Column           Non-Null Count  Dtype  \n",
      "---  ------           --------------  -----  \n",
      " 0   tax_bracket      5000 non-null   int64  \n",
      " 1   income_range     5000 non-null   object \n",
      " 2   min_rate         5000 non-null   float64\n",
      " 3   max_rate         5000 non-null   float64\n",
      " 4   deduction_limit  5000 non-null   int64  \n",
      "dtypes: float64(2), int64(2), object(1)\n",
      "memory usage: 195.4+ KB\n"
     ]
    },
    {
     "data": {
      "text/html": [
       "<div>\n",
       "<style scoped>\n",
       "    .dataframe tbody tr th:only-of-type {\n",
       "        vertical-align: middle;\n",
       "    }\n",
       "\n",
       "    .dataframe tbody tr th {\n",
       "        vertical-align: top;\n",
       "    }\n",
       "\n",
       "    .dataframe thead th {\n",
       "        text-align: right;\n",
       "    }\n",
       "</style>\n",
       "<table border=\"1\" class=\"dataframe\">\n",
       "  <thead>\n",
       "    <tr style=\"text-align: right;\">\n",
       "      <th></th>\n",
       "      <th>tax_bracket</th>\n",
       "      <th>min_rate</th>\n",
       "      <th>max_rate</th>\n",
       "      <th>deduction_limit</th>\n",
       "    </tr>\n",
       "  </thead>\n",
       "  <tbody>\n",
       "    <tr>\n",
       "      <th>count</th>\n",
       "      <td>5000.000000</td>\n",
       "      <td>5000.000000</td>\n",
       "      <td>5000.000000</td>\n",
       "      <td>5000.000000</td>\n",
       "    </tr>\n",
       "    <tr>\n",
       "      <th>mean</th>\n",
       "      <td>3.000000</td>\n",
       "      <td>0.102000</td>\n",
       "      <td>0.150000</td>\n",
       "      <td>7600.000000</td>\n",
       "    </tr>\n",
       "    <tr>\n",
       "      <th>std</th>\n",
       "      <td>1.414355</td>\n",
       "      <td>0.067948</td>\n",
       "      <td>0.070718</td>\n",
       "      <td>6946.196796</td>\n",
       "    </tr>\n",
       "    <tr>\n",
       "      <th>min</th>\n",
       "      <td>1.000000</td>\n",
       "      <td>0.010000</td>\n",
       "      <td>0.050000</td>\n",
       "      <td>1000.000000</td>\n",
       "    </tr>\n",
       "    <tr>\n",
       "      <th>25%</th>\n",
       "      <td>2.000000</td>\n",
       "      <td>0.050000</td>\n",
       "      <td>0.100000</td>\n",
       "      <td>2000.000000</td>\n",
       "    </tr>\n",
       "    <tr>\n",
       "      <th>50%</th>\n",
       "      <td>3.000000</td>\n",
       "      <td>0.100000</td>\n",
       "      <td>0.150000</td>\n",
       "      <td>5000.000000</td>\n",
       "    </tr>\n",
       "    <tr>\n",
       "      <th>75%</th>\n",
       "      <td>4.000000</td>\n",
       "      <td>0.150000</td>\n",
       "      <td>0.200000</td>\n",
       "      <td>10000.000000</td>\n",
       "    </tr>\n",
       "    <tr>\n",
       "      <th>max</th>\n",
       "      <td>5.000000</td>\n",
       "      <td>0.200000</td>\n",
       "      <td>0.250000</td>\n",
       "      <td>20000.000000</td>\n",
       "    </tr>\n",
       "  </tbody>\n",
       "</table>\n",
       "</div>"
      ],
      "text/plain": [
       "       tax_bracket     min_rate     max_rate  deduction_limit\n",
       "count  5000.000000  5000.000000  5000.000000      5000.000000\n",
       "mean      3.000000     0.102000     0.150000      7600.000000\n",
       "std       1.414355     0.067948     0.070718      6946.196796\n",
       "min       1.000000     0.010000     0.050000      1000.000000\n",
       "25%       2.000000     0.050000     0.100000      2000.000000\n",
       "50%       3.000000     0.100000     0.150000      5000.000000\n",
       "75%       4.000000     0.150000     0.200000     10000.000000\n",
       "max       5.000000     0.200000     0.250000     20000.000000"
      ]
     },
     "execution_count": 9,
     "metadata": {},
     "output_type": "execute_result"
    }
   ],
   "source": [
    "# Summary of tax regulations data\n",
    "tax_regulations.info()\n",
    "tax_regulations.describe()\n"
   ]
  },
  {
   "cell_type": "code",
   "execution_count": 11,
   "metadata": {},
   "outputs": [
    {
     "data": {
      "text/plain": [
       "Series([], dtype: int64)"
      ]
     },
     "execution_count": 11,
     "metadata": {},
     "output_type": "execute_result"
    }
   ],
   "source": [
    "# Check for missing values in historical data\n",
    "missing_values = historical_data.isnull().sum()\n",
    "missing_values[missing_values > 0]\n"
   ]
  },
  {
   "cell_type": "code",
   "execution_count": 12,
   "metadata": {},
   "outputs": [],
   "source": [
    "historical_data.fillna(0, inplace=True)"
   ]
  },
  {
   "cell_type": "code",
   "execution_count": 13,
   "metadata": {},
   "outputs": [
    {
     "data": {
      "text/plain": [
       "Series([], dtype: int64)"
      ]
     },
     "execution_count": 13,
     "metadata": {},
     "output_type": "execute_result"
    }
   ],
   "source": [
    "# Check for missing values in tax regulations data\n",
    "missing_values_regulations = tax_regulations.isnull().sum()\n",
    "missing_values_regulations[missing_values_regulations > 0]"
   ]
  },
  {
   "cell_type": "code",
   "execution_count": 14,
   "metadata": {},
   "outputs": [],
   "source": [
    "tax_regulations.fillna(0, inplace=True)\n"
   ]
  },
  {
   "cell_type": "code",
   "execution_count": 15,
   "metadata": {},
   "outputs": [
    {
     "data": {
      "image/png": "[encoded data removed]",
      "text/plain": [
       "<Figure size 1200x600 with 1 Axes>"
      ]
     },
     "metadata": {},
     "output_type": "display_data"
    }
   ],
   "source": [
    "plt.figure(figsize=(12, 6))\n",
    "sns.histplot(historical_data['income'], bins=30, kde=True)\n",
    "plt.title('Income Distribution')\n",
    "plt.xlabel('Income')\n",
    "plt.ylabel('Frequency')\n",
    "plt.show()\n"
   ]
  },
  {
   "cell_type": "code",
   "execution_count": 16,
   "metadata": {},
   "outputs": [
    {
     "name": "stderr",
     "output_type": "stream",
     "text": [
      "C:\\Users\\Arkatiss123\\AppData\\Local\\Temp\\ipykernel_23336\\3754625807.py:2: FutureWarning: \n",
      "\n",
      "Passing `palette` without assigning `hue` is deprecated and will be removed in v0.14.0. Assign the `x` variable to `hue` and set `legend=False` for the same effect.\n",
      "\n",
      "  sns.barplot(data=tax_regulations, x='tax_bracket', y='min_rate', palette='viridis')\n"
     ]
    },
    {
     "data": {
      "image/png": "[encoded data removed]",
      "text/plain": [
       "<Figure size 1200x600 with 1 Axes>"
      ]
     },
     "metadata": {},
     "output_type": "display_data"
    }
   ],
   "source": [
    "plt.figure(figsize=(12, 6))\n",
    "sns.barplot(data=tax_regulations, x='tax_bracket', y='min_rate', palette='viridis')\n",
    "plt.title('Minimum Tax Rate by Tax Bracket')\n",
    "plt.xlabel('Tax Bracket')\n",
    "plt.ylabel('Minimum Tax Rate')\n",
    "plt.show()\n"
   ]
  },
  {
   "cell_type": "code",
   "execution_count": null,
   "metadata": {},
   "outputs": [],
   "source": []
  }
 ],
 "metadata": {
  "kernelspec": {
   "display_name": "venv",
   "language": "python",
   "name": "python3"
  },
  "language_info": {
   "codemirror_mode": {
    "name": "ipython",
    "version": 3
   },
   "file_extension": ".py",
   "mimetype": "text/x-python",
   "name": "python",
   "nbconvert_exporter": "python",
   "pygments_lexer": "ipython3",
   "version": "3.10.0"
  }
 },
 "nbformat": 4,
 "nbformat_minor": 2
}
